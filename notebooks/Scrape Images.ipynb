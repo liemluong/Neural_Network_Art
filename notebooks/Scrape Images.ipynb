{
 "cells": [
  {
   "cell_type": "code",
   "execution_count": 26,
   "id": "b0fcc1e7",
   "metadata": {},
   "outputs": [],
   "source": [
    "from selenium import webdriver\n",
    "import chromedriver_binary\n",
    "from selenium.webdriver.common.by import By"
   ]
  },
  {
   "cell_type": "code",
   "execution_count": 35,
   "id": "8164f0eb",
   "metadata": {},
   "outputs": [],
   "source": [
    "driver = webdriver.Chrome()"
   ]
  },
  {
   "cell_type": "code",
   "execution_count": null,
   "id": "162cde58",
   "metadata": {},
   "outputs": [],
   "source": [
    "\"https://www.fashionfabricsclub.com/c97970_check-fabric?PageSize=64&page=\""
   ]
  },
  {
   "cell_type": "code",
   "execution_count": 49,
   "id": "c57b6089",
   "metadata": {},
   "outputs": [],
   "source": [
    "base_url = \"https://www.onlinefabricstore.com/design-plaid-and-check.aspx?mpp=72\""
   ]
  },
  {
   "cell_type": "code",
   "execution_count": 58,
   "id": "30b4ee4b",
   "metadata": {},
   "outputs": [],
   "source": [
    "driver.get(base_url)"
   ]
  },
  {
   "cell_type": "code",
   "execution_count": 43,
   "id": "2c1c7382",
   "metadata": {},
   "outputs": [],
   "source": [
    "def get_img_urls(num_records_class, num_records_split, imgs_class, page_param):\n",
    "    result_count = driver.find_element(By.CLASS_NAME, 'result-count').text\n",
    "    total_num_results = int(result_count.split('of ')[-1])\n",
    "    page = 1\n",
    "    img_urls = []\n",
    "    while total_num_results > 0:\n",
    "        imgs = driver.find_elements(By.CLASS_NAME, \"product-image\")\n",
    "        for i in imgs:\n",
    "            img_src = i.find_element(By.TAG_NAME, 'img').get_attribute('src')\n",
    "            img_urls.append(img_src)\n",
    "        total_num_results -= 64\n",
    "        page += 1\n",
    "        url =  base_url + \"&\" + page_param + str(page)\n",
    "        driver.get(url)"
   ]
  },
  {
   "cell_type": "code",
   "execution_count": 59,
   "id": "652b6d80",
   "metadata": {},
   "outputs": [],
   "source": [
    "def get_img_urls(num_records_class, num_records_split, imgs_class, imgs_per_page, page_param):\n",
    "    result_count = driver.find_element(By.CLASS_NAME, num_records_class).text\n",
    "    total_num_results = int(result_count.split(num_records_split)[-1])\n",
    "    page = 1\n",
    "    img_urls = []\n",
    "    while total_num_results > 0:\n",
    "        imgs = driver.find_elements(By.CLASS_NAME, imgs_class)\n",
    "        for i in imgs:\n",
    "#             img_src = i.find_element(By.TAG_NAME, 'img').get_attribute('src')\n",
    "            img_src = i.get_attribute('src')\n",
    "            img_urls.append(img_src)\n",
    "        total_num_results -= imgs_per_page\n",
    "        page += 1\n",
    "        url =  base_url + \"&\" + page_param + \"=\" + str(page)\n",
    "        driver.get(url)\n",
    "    return img_urls"
   ]
  },
  {
   "cell_type": "code",
   "execution_count": 60,
   "id": "a9e26ac2",
   "metadata": {},
   "outputs": [],
   "source": [
    "checkered = get_img_urls('hawk-customNoOfRecords', ': ', 'itemImage', 72, 'pg')"
   ]
  },
  {
   "cell_type": "code",
   "execution_count": 62,
   "id": "90b12c67",
   "metadata": {},
   "outputs": [],
   "source": [
    "import urllib\n",
    "from PIL import Image\n",
    "\n",
    "import requests\n",
    "from io import BytesIO\n",
    "import os\n",
    "\n",
    "images = []\n",
    "badURLs = []\n",
    "\n",
    "dir_base = os.getcwd() + '\\\\patterns' # Get your current directory & create a new folder 'called patterns'\n",
    "\n",
    "for i, url in enumerate(checkered): \n",
    "    #row[0] = pattern, row[1] = url\n",
    "    try:\n",
    "        image_name = '0{}_{}'.format(i+1, \"_checkered_scraped\" + '.jpg') # Example: 01_floral.jpg\n",
    "        urllib.request.urlretrieve(url, image_name)\n",
    "        path = os.path.join(dir_base , image_name)\n",
    "        images.append(path)  # adding that locally fetched image path to pandas column\n",
    "\n",
    "    except Exception:\n",
    "        badURLs.append(url)\n",
    "        continue"
   ]
  }
 ],
 "metadata": {
  "kernelspec": {
   "display_name": "Python 3 (ipykernel)",
   "language": "python",
   "name": "python3"
  },
  "language_info": {
   "codemirror_mode": {
    "name": "ipython",
    "version": 3
   },
   "file_extension": ".py",
   "mimetype": "text/x-python",
   "name": "python",
   "nbconvert_exporter": "python",
   "pygments_lexer": "ipython3",
   "version": "3.8.8"
  }
 },
 "nbformat": 4,
 "nbformat_minor": 5
}
