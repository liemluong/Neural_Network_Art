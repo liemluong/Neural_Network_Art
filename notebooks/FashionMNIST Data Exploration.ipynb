{
 "cells": [
  {
   "cell_type": "markdown",
   "id": "505197eb",
   "metadata": {},
   "source": [
    "# Download Data\n",
    "\n",
    "Downloading Fashion MNIST data from [HuggingFace](https://huggingface.co/datasets/fashion_mnist) using the datasets library."
   ]
  },
  {
   "cell_type": "code",
   "execution_count": 41,
   "id": "f2921cb5",
   "metadata": {},
   "outputs": [
    {
     "name": "stderr",
     "output_type": "stream",
     "text": [
      "Reusing dataset fashion_mnist (/Users/vanessa/.cache/huggingface/datasets/fashion_mnist/fashion_mnist/1.0.0/7f77637ef7feaf202cb58d8dbe9d876c373d5e46fe90b35f18237c0bc81966ed)\n"
     ]
    },
    {
     "data": {
      "application/vnd.jupyter.widget-view+json": {
       "model_id": "fc8a245facb749e3bd6558903f9b3c8c",
       "version_major": 2,
       "version_minor": 0
      },
      "text/plain": [
       "  0%|          | 0/2 [00:00<?, ?it/s]"
      ]
     },
     "metadata": {},
     "output_type": "display_data"
    }
   ],
   "source": [
    "from datasets import load_dataset\n",
    "\n",
    "dataset = load_dataset(\"fashion_mnist\")"
   ]
  },
  {
   "cell_type": "code",
   "execution_count": 42,
   "id": "4a10fb3e",
   "metadata": {},
   "outputs": [
    {
     "data": {
      "text/plain": [
       "DatasetDict({\n",
       "    train: Dataset({\n",
       "        features: ['image', 'label'],\n",
       "        num_rows: 60000\n",
       "    })\n",
       "    test: Dataset({\n",
       "        features: ['image', 'label'],\n",
       "        num_rows: 10000\n",
       "    })\n",
       "})"
      ]
     },
     "execution_count": 42,
     "metadata": {},
     "output_type": "execute_result"
    }
   ],
   "source": [
    "# dataset downloaded as a dictionary\n",
    "# train includes 60,000 images and their respective labels\n",
    "# test includes 10,000 images and their respective labels\n",
    "dataset"
   ]
  },
  {
   "cell_type": "code",
   "execution_count": 48,
   "id": "72926c6a",
   "metadata": {},
   "outputs": [],
   "source": [
    "def save_to_png(images, train=True):\n",
    "    if train:\n",
    "        for i, img in enumerate(images):\n",
    "            img.save('../data/fashion_mnist/train/train' + str(i) + '.png')\n",
    "    else:\n",
    "        for i, img in enumerate(images):\n",
    "            img.save('../data/fashion_mnist/test/test' + str(i) + '.png')"
   ]
  },
  {
   "cell_type": "code",
   "execution_count": 49,
   "id": "3c9768ee",
   "metadata": {},
   "outputs": [],
   "source": [
    "save_to_png(dataset['train']['image'], train=True)\n",
    "save_to_png(dataset['test']['image'], train=False)"
   ]
  },
  {
   "cell_type": "code",
   "execution_count": null,
   "id": "fa3c4edc",
   "metadata": {},
   "outputs": [],
   "source": []
  }
 ],
 "metadata": {
  "kernelspec": {
   "display_name": "Python 3 (ipykernel)",
   "language": "python",
   "name": "python3"
  },
  "language_info": {
   "codemirror_mode": {
    "name": "ipython",
    "version": 3
   },
   "file_extension": ".py",
   "mimetype": "text/x-python",
   "name": "python",
   "nbconvert_exporter": "python",
   "pygments_lexer": "ipython3",
   "version": "3.8.8"
  }
 },
 "nbformat": 4,
 "nbformat_minor": 5
}
