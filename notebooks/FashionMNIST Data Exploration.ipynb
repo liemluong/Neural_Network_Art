{
 "cells": [
  {
   "cell_type": "markdown",
   "id": "505197eb",
   "metadata": {},
   "source": [
    "# Download Data\n",
    "\n",
    "Downloading Fashion MNIST data from [HuggingFace](https://huggingface.co/datasets/fashion_mnist) using the datasets library."
   ]
  },
  {
   "cell_type": "code",
   "execution_count": 41,
   "id": "f2921cb5",
   "metadata": {},
   "outputs": [
    {
     "name": "stderr",
     "output_type": "stream",
     "text": [
      "Reusing dataset fashion_mnist (/Users/vanessa/.cache/huggingface/datasets/fashion_mnist/fashion_mnist/1.0.0/7f77637ef7feaf202cb58d8dbe9d876c373d5e46fe90b35f18237c0bc81966ed)\n"
     ]
    },
    {
     "data": {
      "application/vnd.jupyter.widget-view+json": {
       "model_id": "fc8a245facb749e3bd6558903f9b3c8c",
       "version_major": 2,
       "version_minor": 0
      },
      "text/plain": [
       "  0%|          | 0/2 [00:00<?, ?it/s]"
      ]
     },
     "metadata": {},
     "output_type": "display_data"
    }
   ],
   "source": [
    "from datasets import load_dataset\n",
    "\n",
    "dataset = load_dataset(\"fashion_mnist\")"
   ]
  },
  {
   "cell_type": "code",
   "execution_count": 42,
   "id": "4a10fb3e",
   "metadata": {},
   "outputs": [
    {
     "data": {
      "text/plain": [
       "DatasetDict({\n",
       "    train: Dataset({\n",
       "        features: ['image', 'label'],\n",
       "        num_rows: 60000\n",
       "    })\n",
       "    test: Dataset({\n",
       "        features: ['image', 'label'],\n",
       "        num_rows: 10000\n",
       "    })\n",
       "})"
      ]
     },
     "execution_count": 42,
     "metadata": {},
     "output_type": "execute_result"
    }
   ],
   "source": [
    "# dataset downloaded as a dictionary\n",
    "# train includes 60,000 images and their respective labels\n",
    "# test includes 10,000 images and their respective labels\n",
    "dataset"
   ]
  },
  {
   "cell_type": "code",
   "execution_count": 48,
   "id": "72926c6a",
   "metadata": {},
   "outputs": [],
   "source": [
    "def save_to_png(images, train=True):\n",
    "    if train:\n",
    "        for i, img in enumerate(images):\n",
    "            img.save('../data/fashion_mnist/train/train' + str(i) + '.png')\n",
    "    else:\n",
    "        for i, img in enumerate(images):\n",
    "            img.save('../data/fashion_mnist/test/test' + str(i) + '.png')"
   ]
  },
  {
   "cell_type": "code",
   "execution_count": 49,
   "id": "3c9768ee",
   "metadata": {},
   "outputs": [],
   "source": [
    "save_to_png(dataset['train']['image'], train=True)\n",
    "save_to_png(dataset['test']['image'], train=False)"
   ]
  },
  {
   "cell_type": "code",
   "execution_count": 55,
   "id": "fa3c4edc",
   "metadata": {},
   "outputs": [
    {
     "name": "stdout",
     "output_type": "stream",
     "text": [
      "Counter({9: 6000, 0: 6000, 3: 6000, 2: 6000, 7: 6000, 5: 6000, 1: 6000, 6: 6000, 4: 6000, 8: 6000})\n",
      "Counter({9: 1000, 2: 1000, 1: 1000, 6: 1000, 4: 1000, 5: 1000, 7: 1000, 3: 1000, 8: 1000, 0: 1000})\n"
     ]
    }
   ],
   "source": [
    "from collections import Counter\n",
    "print(Counter(dataset['train']['label']))\n",
    "print(Counter(dataset['test']['label']))"
   ]
  },
  {
   "cell_type": "code",
   "execution_count": 67,
   "id": "8f8e2a45",
   "metadata": {},
   "outputs": [
    {
     "data": {
      "text/plain": [
       "23"
      ]
     },
     "execution_count": 67,
     "metadata": {},
     "output_type": "execute_result"
    }
   ],
   "source": [
    "dataset['train']['label'].index(8)"
   ]
  },
  {
   "cell_type": "code",
   "execution_count": 68,
   "id": "fb5b426c",
   "metadata": {},
   "outputs": [
    {
     "data": {
      "image/png": "[encoded data removed]",
      "text/plain": [
       "<PIL.PngImagePlugin.PngImageFile image mode=L size=28x28 at 0x7FE3D7542670>"
      ]
     },
     "execution_count": 68,
     "metadata": {},
     "output_type": "execute_result"
    }
   ],
   "source": [
    "dataset['train']['image'][23]"
   ]
  }
 ],
 "metadata": {
  "kernelspec": {
   "display_name": "Python 3 (ipykernel)",
   "language": "python",
   "name": "python3"
  },
  "language_info": {
   "codemirror_mode": {
    "name": "ipython",
    "version": 3
   },
   "file_extension": ".py",
   "mimetype": "text/x-python",
   "name": "python",
   "nbconvert_exporter": "python",
   "pygments_lexer": "ipython3",
   "version": "3.8.8"
  }
 },
 "nbformat": 4,
 "nbformat_minor": 5
}
