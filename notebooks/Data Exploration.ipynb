{
 "cells": [
  {
   "cell_type": "markdown",
   "id": "01bf8bfa",
   "metadata": {},
   "source": [
    "# Data Exploration \n",
    "#### Due Wednesday, December 1st, 2021\n",
    "#### By Aaliyah Hänni, Vanessa Joy Hsu, Liem Luong, Dwight Sablan\n",
    "\n",
    "This section of your proposal (and therefore the document you should submit for this) should summarize an exploration of the data.  You will want to explore the data through visualizations and inspection, looking for:\n",
    "\n",
    "* feature set defined by name (or identifier if sensitive), variable type, range, etc. - may want statistical plots\n",
    "* missing values \n",
    "* outliers\n",
    "* correlated features\n",
    "* likely sources of bias\n",
    "* other data flaws (is the set too small?  are you missing a feature?)\n",
    " \n",
    "You will also want to discuss the specific features that you are extracting for your project (and justify those features), as well as any data cleaning or augmentation processes you are using.\n"
   ]
  },
  {
   "cell_type": "markdown",
   "id": "17107107",
   "metadata": {},
   "source": [
    "Data Source: *Clothing Pattern Dataset* by Alexander J. Medeiros, Lee Stearns, Leah Findlater, Chuan Chen, and Jon E. Froehlich \n",
    "https://github.com/lstearns86/clothing-pattern-dataset"
   ]
  },
  {
   "cell_type": "code",
   "execution_count": 1,
   "id": "2f34444d",
   "metadata": {},
   "outputs": [],
   "source": [
    "import pandas as pd\n",
    "import numpy as np\n",
    "\n",
    "import urllib\n",
    "from PIL import Image\n",
    "\n",
    "import requests\n",
    "from io import BytesIO\n",
    "\n",
    "import glob, os"
   ]
  },
  {
   "cell_type": "code",
   "execution_count": 2,
   "id": "ee1191e3",
   "metadata": {},
   "outputs": [],
   "source": [
    "clothingDataset = pd.read_csv('googleClothingDataset.csv')"
   ]
  },
  {
   "cell_type": "code",
   "execution_count": 3,
   "id": "70def02a",
   "metadata": {},
   "outputs": [
    {
     "data": {
      "text/html": [
       "<div>\n",
       "<style scoped>\n",
       "    .dataframe tbody tr th:only-of-type {\n",
       "        vertical-align: middle;\n",
       "    }\n",
       "\n",
       "    .dataframe tbody tr th {\n",
       "        vertical-align: top;\n",
       "    }\n",
       "\n",
       "    .dataframe thead th {\n",
       "        text-align: right;\n",
       "    }\n",
       "</style>\n",
       "<table border=\"1\" class=\"dataframe\">\n",
       "  <thead>\n",
       "    <tr style=\"text-align: right;\">\n",
       "      <th></th>\n",
       "      <th>Class Name</th>\n",
       "      <th>URL</th>\n",
       "      <th>Original Width</th>\n",
       "      <th>Original Height</th>\n",
       "      <th>Crop X</th>\n",
       "      <th>Crop Y</th>\n",
       "      <th>Crop Width</th>\n",
       "      <th>Crop Height</th>\n",
       "      <th>Scales</th>\n",
       "    </tr>\n",
       "  </thead>\n",
       "  <tbody>\n",
       "    <tr>\n",
       "      <th>0</th>\n",
       "      <td>solid</td>\n",
       "      <td>https://www.publicdomainpictures.net/pictures/...</td>\n",
       "      <td>1920</td>\n",
       "      <td>1280</td>\n",
       "      <td>0</td>\n",
       "      <td>0</td>\n",
       "      <td>1920</td>\n",
       "      <td>1280</td>\n",
       "      <td>0.2474874;0.4949747;0.9899495;1.979899</td>\n",
       "    </tr>\n",
       "    <tr>\n",
       "      <th>1</th>\n",
       "      <td>solid</td>\n",
       "      <td>https://c1.staticflickr.com/9/8208/8185035876_...</td>\n",
       "      <td>5456</td>\n",
       "      <td>3064</td>\n",
       "      <td>0</td>\n",
       "      <td>0</td>\n",
       "      <td>5456</td>\n",
       "      <td>3064</td>\n",
       "      <td>0.103389;0.206778;0.4135559;0.8271118;1.654224</td>\n",
       "    </tr>\n",
       "    <tr>\n",
       "      <th>2</th>\n",
       "      <td>solid</td>\n",
       "      <td>https://cdn.pixabay.com/photo/2017/08/14/22/24...</td>\n",
       "      <td>3680</td>\n",
       "      <td>2760</td>\n",
       "      <td>0</td>\n",
       "      <td>0</td>\n",
       "      <td>3680</td>\n",
       "      <td>2760</td>\n",
       "      <td>0.1147768;0.2295535;0.459107;0.918214;1.836428</td>\n",
       "    </tr>\n",
       "    <tr>\n",
       "      <th>3</th>\n",
       "      <td>solid</td>\n",
       "      <td>https://upload.wikimedia.org/wikipedia/commons...</td>\n",
       "      <td>2816</td>\n",
       "      <td>2112</td>\n",
       "      <td>0</td>\n",
       "      <td>0</td>\n",
       "      <td>2816</td>\n",
       "      <td>2112</td>\n",
       "      <td>0.1499923;0.2999847;0.5999694;1.199939</td>\n",
       "    </tr>\n",
       "    <tr>\n",
       "      <th>4</th>\n",
       "      <td>solid</td>\n",
       "      <td>https://c1.staticflickr.com/9/8753/17091052376...</td>\n",
       "      <td>2500</td>\n",
       "      <td>1668</td>\n",
       "      <td>0</td>\n",
       "      <td>0</td>\n",
       "      <td>2500</td>\n",
       "      <td>1668</td>\n",
       "      <td>0.1899184;0.3798367;0.7596735;1.519347</td>\n",
       "    </tr>\n",
       "  </tbody>\n",
       "</table>\n",
       "</div>"
      ],
      "text/plain": [
       "  Class Name                                                URL  \\\n",
       "0      solid  https://www.publicdomainpictures.net/pictures/...   \n",
       "1      solid  https://c1.staticflickr.com/9/8208/8185035876_...   \n",
       "2      solid  https://cdn.pixabay.com/photo/2017/08/14/22/24...   \n",
       "3      solid  https://upload.wikimedia.org/wikipedia/commons...   \n",
       "4      solid  https://c1.staticflickr.com/9/8753/17091052376...   \n",
       "\n",
       "   Original Width  Original Height  Crop X  Crop Y  Crop Width  Crop Height  \\\n",
       "0            1920             1280       0       0        1920         1280   \n",
       "1            5456             3064       0       0        5456         3064   \n",
       "2            3680             2760       0       0        3680         2760   \n",
       "3            2816             2112       0       0        2816         2112   \n",
       "4            2500             1668       0       0        2500         1668   \n",
       "\n",
       "                                           Scales  \n",
       "0          0.2474874;0.4949747;0.9899495;1.979899  \n",
       "1  0.103389;0.206778;0.4135559;0.8271118;1.654224  \n",
       "2  0.1147768;0.2295535;0.459107;0.918214;1.836428  \n",
       "3          0.1499923;0.2999847;0.5999694;1.199939  \n",
       "4          0.1899184;0.3798367;0.7596735;1.519347  "
      ]
     },
     "execution_count": 3,
     "metadata": {},
     "output_type": "execute_result"
    }
   ],
   "source": [
    "clothingDataset.head(5)"
   ]
  },
  {
   "cell_type": "code",
   "execution_count": 4,
   "id": "aef4cad2",
   "metadata": {},
   "outputs": [
    {
     "data": {
      "text/plain": [
       "<bound method NDFrame.describe of      Class Name                                                URL  \\\n",
       "0         solid  https://www.publicdomainpictures.net/pictures/...   \n",
       "1         solid  https://c1.staticflickr.com/9/8208/8185035876_...   \n",
       "2         solid  https://cdn.pixabay.com/photo/2017/08/14/22/24...   \n",
       "3         solid  https://upload.wikimedia.org/wikipedia/commons...   \n",
       "4         solid  https://c1.staticflickr.com/9/8753/17091052376...   \n",
       "...         ...                                                ...   \n",
       "2744    zig zag  https://previews.123rf.com/images/sn333g/sn333...   \n",
       "2745    zig zag  http://www.sheetworld.com/p_images/sxb3242_W11...   \n",
       "2746    zig zag  https://www.adamrossfabrics.co.uk/wp-content/u...   \n",
       "2747    zig zag  https://secure.img2-ag.wfcdn.com/im/41114327/r...   \n",
       "2748    zig zag  https://thumbs.dreamstime.com/z/green-brown-zi...   \n",
       "\n",
       "      Original Width  Original Height  Crop X  Crop Y  Crop Width  \\\n",
       "0               1920             1280       0       0        1920   \n",
       "1               5456             3064       0       0        5456   \n",
       "2               3680             2760       0       0        3680   \n",
       "3               2816             2112       0       0        2816   \n",
       "4               2500             1668       0       0        2500   \n",
       "...              ...              ...     ...     ...         ...   \n",
       "2744            1300             1300       0       0        1300   \n",
       "2745             737              467       0       0         737   \n",
       "2746             450              450       0       0         450   \n",
       "2747            1024             1300       0       0         929   \n",
       "2748             800              800       0       0         800   \n",
       "\n",
       "      Crop Height                                          Scales  \n",
       "0            1280          0.2474874;0.4949747;0.9899495;1.979899  \n",
       "1            3064  0.103389;0.206778;0.4135559;0.8271118;1.654224  \n",
       "2            2760  0.1147768;0.2295535;0.459107;0.918214;1.836428  \n",
       "3            2112          0.1499923;0.2999847;0.5999694;1.199939  \n",
       "4            1668          0.1899184;0.3798367;0.7596735;1.519347  \n",
       "...           ...                                             ...  \n",
       "2744         1300          0.2436799;0.4873597;0.9747195;1.949439  \n",
       "2745          467                               0.678338;1.356676  \n",
       "2746          450                              0.7039641;1.407928  \n",
       "2747         1300                    0.3409944;0.6819889;1.363978  \n",
       "2748          800                    0.3959798;0.7919596;1.583919  \n",
       "\n",
       "[2749 rows x 9 columns]>"
      ]
     },
     "execution_count": 4,
     "metadata": {},
     "output_type": "execute_result"
    }
   ],
   "source": [
    "clothingDataset.describe"
   ]
  },
  {
   "cell_type": "code",
   "execution_count": 5,
   "id": "67d6fa46",
   "metadata": {},
   "outputs": [
    {
     "data": {
      "text/plain": [
       "Class Name         object\n",
       "URL                object\n",
       "Original Width      int64\n",
       "Original Height     int64\n",
       "Crop X              int64\n",
       "Crop Y              int64\n",
       "Crop Width          int64\n",
       "Crop Height         int64\n",
       "Scales             object\n",
       "dtype: object"
      ]
     },
     "execution_count": 5,
     "metadata": {},
     "output_type": "execute_result"
    }
   ],
   "source": [
    "clothingDataset.dtypes"
   ]
  },
  {
   "cell_type": "markdown",
   "id": "4b86f571",
   "metadata": {},
   "source": [
    "## Extract Images from URL"
   ]
  },
  {
   "cell_type": "code",
   "execution_count": null,
   "id": "ecf09c6b",
   "metadata": {},
   "outputs": [],
   "source": [
    "images = [] #df used to store valid images. Format: pattern, image\n",
    "badURLs = [] #df used to store invalid images/broken urls. Format: patter, url\n",
    "\n",
    "for counter, row in enumerate(clothingDataset.iloc[:, :2].values.tolist()):\n",
    "    try:\n",
    "        #downloads images to folder\n",
    "        #urlReq = urllib.request.urlretrieve(row[1], row[0] + '_' + str(counter) + '.jpg')\n",
    "        #images.append(row[0] + '_' + str(counter) + '.png')\n",
    "        #append images to a dataframe\n",
    "        r = requests.get(row[1])\n",
    "        images.append([row[0], Image.open(BytesIO(r.content))])\n",
    "    except Exception:\n",
    "        badURLs.append([row[0], row[1]])\n",
    "        continue"
   ]
  },
  {
   "cell_type": "code",
   "execution_count": null,
   "id": "84be51c6",
   "metadata": {},
   "outputs": [],
   "source": [
    "print(\"Valid Image URLs:   \", len(images))\n",
    "print(\"Invalid Image URLs: \", len(badURLs))"
   ]
  },
  {
   "cell_type": "code",
   "execution_count": null,
   "id": "02f80cda",
   "metadata": {},
   "outputs": [],
   "source": [
    "#format the images into a dataframe\n",
    "images = pd.DataFrame(images, columns = ['pattern', 'image'])\n",
    "badURLs = pd.DataFrame(badURLs, columns = ['pattern', 'url'])"
   ]
  },
  {
   "cell_type": "code",
   "execution_count": null,
   "id": "7d6da0a6",
   "metadata": {},
   "outputs": [],
   "source": [
    "print(\"VALID IMAGE URLS\")\n",
    "print('')\n",
    "print(\"     Solid: \", len(images[images.pattern == 'solid']))\n",
    "print(\"     Checkered: \", len(images[images.pattern == 'checkered']))\n",
    "print(\"     Floral: \", len(images[images.pattern == 'floral']))\n",
    "print(\"     Dotted: \", len(images[images.pattern == 'dotted']))\n",
    "print(\"     Striped: \", len(images[images.pattern == 'striped']))\n",
    "print(\"     Zig Zag: \", len(images[images.pattern == 'zig zag']))\n",
    "print('')\n",
    "print(\"     Total: \", len(images))"
   ]
  },
  {
   "cell_type": "code",
   "execution_count": null,
   "id": "19863e4e",
   "metadata": {},
   "outputs": [],
   "source": [
    "print(\"INVALID IMAGE URLS\")\n",
    "print('')\n",
    "print(\"     Solid: \", len(badURLs[badURLs.pattern == 'solid']))\n",
    "print(\"     Checkered: \", len(badURLs[badURLs.pattern == 'checkered']))\n",
    "print(\"     Floral: \", len(badURLs[badURLs.pattern == 'floral']))\n",
    "print(\"     Dotted: \", len(badURLs[badURLs.pattern == 'dotted']))\n",
    "print(\"     Striped: \", len(badURLs[badURLs.pattern == 'striped']))\n",
    "print(\"     Zig Zag: \", len(badURLs[badURLs.pattern == 'zig zag']))\n",
    "print('')\n",
    "print(\"     Total: \", len(badURLs))"
   ]
  },
  {
   "cell_type": "code",
   "execution_count": null,
   "id": "7bebd678",
   "metadata": {},
   "outputs": [],
   "source": [
    "#display images\n",
    "size = 128, 128 #reshape to thumbnail size\n",
    "for i in range(5):\n",
    "    images.image[i].thumbnail(size)\n",
    "    display(images.image[i])"
   ]
  },
  {
   "cell_type": "markdown",
   "id": "97bcc911",
   "metadata": {},
   "source": [
    "## Explore FingerCamera Dataset\n",
    "FingerCamera\n",
    "\n",
    "\\checkered\n",
    "\n",
    "\\dotted\n",
    "\n",
    "\\floral\n",
    "\n",
    "\\solid\n",
    "\n",
    "\\striped\n",
    "\n",
    "\\zig zag"
   ]
  },
  {
   "cell_type": "code",
   "execution_count": null,
   "id": "7401d33a",
   "metadata": {},
   "outputs": [],
   "source": []
  },
  {
   "cell_type": "markdown",
   "id": "5185377e",
   "metadata": {},
   "source": [
    "## Cited Sources\n",
    "* https://github.com/lstearns86/clothing-pattern-dataset \n",
    "* https://www.kite.com/python/answers/how-to-read-an-image-data-from-a-url-in-python\n",
    "* https://pillow.readthedocs.io/en/stable/reference/Image.html\n",
    "* https://datascience.stackexchange.com/questions/58351/how-to-retrieve-images-from-a-url-in-a-pandas-dataframe-and-store-them-as-pil-ob\n",
    "\n",
    "* https://stackoverflow.com/questions/46107348/how-to-display-image-stored-in-pandas-dataframe"
   ]
  },
  {
   "cell_type": "code",
   "execution_count": null,
   "id": "ead2c6f3",
   "metadata": {},
   "outputs": [],
   "source": []
  }
 ],
 "metadata": {
  "kernelspec": {
   "display_name": "Python 3",
   "language": "python",
   "name": "python3"
  },
  "language_info": {
   "codemirror_mode": {
    "name": "ipython",
    "version": 3
   },
   "file_extension": ".py",
   "mimetype": "text/x-python",
   "name": "python",
   "nbconvert_exporter": "python",
   "pygments_lexer": "ipython3",
   "version": "3.9.6"
  }
 },
 "nbformat": 4,
 "nbformat_minor": 5
}
